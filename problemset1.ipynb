{
 "cells": [
  {
   "cell_type": "markdown",
   "id": "e96fc3b0",
   "metadata": {},
   "source": [
    "# Question 1"
   ]
  },
  {
   "cell_type": "markdown",
   "id": "6d409764",
   "metadata": {},
   "source": [
    "Here's the data type of each of the following in C#:\n",
    "\n",
    "5                  - integer (int).\n",
    "5.0                - floating-point number (double).\n",
    "5 > 1              - boolean (bool) (True).\n",
    "'5'                - string (string).\n",
    "5 * 2              - integer (int)  (10).\n",
    "'5' * 2            - error (cannot multiply a string and an integer).\n",
    "'5' + '2'          - string (string) (52).\n",
    "5 / 2              - floating-point number (double) (2.5).\n",
    "5 % 2              - integer (int) (1).\n",
    "{5, 2, 1}          - array of integers (int {1, 2, 5}).\n",
    "5 == 3             - boolean (bool) (false).\n",
    "Pi (the number)    - floating-point number (double)."
   ]
  },
  {
   "cell_type": "markdown",
   "id": "75302211",
   "metadata": {},
   "source": [
    "# Question 2"
   ]
  },
  {
   "cell_type": "markdown",
   "id": "3a28845b",
   "metadata": {},
   "source": [
    "a.The number of letters in the word 'Supercalifragilisticexpialidocious' is: 34.\n",
    "  The C# code to get this output is:"
   ]
  },
  {
   "cell_type": "code",
   "execution_count": null,
   "id": "602c1c01",
   "metadata": {},
   "outputs": [],
   "source": [
    "string word = \"Supercalifragilisticexpialidocious\";\n",
    "int letterCount = word.Length;\n",
    "Console.WriteLine(\"The number of letters in the word 'Supercalifragilisticexpialidocious' is: \" + letterCount);"
   ]
  },
  {
   "cell_type": "markdown",
   "id": "e95787e9",
   "metadata": {},
   "source": [
    "b. The word 'Supercalifragilisticexpialidocious' contains the substring 'ice': True.\n",
    "   The C# code to check if the string \"Supercalifragilisticexpialidocious\" contains the substring \"ice\":"
   ]
  },
  {
   "cell_type": "code",
   "execution_count": null,
   "id": "9bbc0272",
   "metadata": {},
   "outputs": [],
   "source": [
    "string word = \"Supercalifragilisticexpialidocious\";\n",
    "bool containsIce = word.Contains(\"ice\");\n",
    "Console.WriteLine(\"The word 'Supercalifragilisticexpialidocious' contains the substring 'ice': \" + containsIce);"
   ]
  },
  {
   "cell_type": "markdown",
   "id": "c2188430",
   "metadata": {},
   "source": [
    "c. The longest word is: Supercalifragilisticexpialidocious.\n",
    "   The C# code to find the longest word from the list:"
   ]
  },
  {
   "cell_type": "code",
   "execution_count": null,
   "id": "e08769d6",
   "metadata": {},
   "outputs": [],
   "source": [
    "string word1 = \"Supercalifragilisticexpialidocious\";\n",
    "string word2 = \"Honorificabilitudinitatibus\";\n",
    "string word3 = \"Bababadalgharaghtakamminarronnkonn\";\n",
    "\n",
    "string longestWord = word1;\n",
    "if (word2.Length > longestWord.Length)\n",
    "{\n",
    "    longestWord = word2;\n",
    "}\n",
    "if (word3.Length > longestWord.Length)\n",
    "{\n",
    "    longestWord = word3;\n",
    "}\n",
    "\n",
    "Console.WriteLine(\"The longest word is: \" + longestWord);"
   ]
  },
  {
   "cell_type": "markdown",
   "id": "2cdbc74a",
   "metadata": {},
   "source": [
    "d. The first composer in the dictionary is: Bartok.\n",
    "   The last composer in the dictionary is: Buxtehude.\n",
    "   The C# code to find the first and last composer from the list:"
   ]
  },
  {
   "cell_type": "code",
   "execution_count": null,
   "id": "4d2b3b91",
   "metadata": {},
   "outputs": [],
   "source": [
    "class MainClass {\n",
    "  public static void Main (string[] args) {\n",
    "    string[] composers = new string[] { \"Berlioz\", \"Borodin\", \"Brian\", \"Bartok\", \"Bellini\", \"Buxtehude\", \"Bernstein\" };\n",
    "    Array.Sort(composers);\n",
    "    Console.WriteLine(\"The first composer in the dictionary is: \" + composers[0]);\n",
    "    Console.WriteLine(\"The last composer in the dictionary is: \" + composers[composers.Length - 1]);\n",
    "  }\n",
    "}"
   ]
  },
  {
   "cell_type": "markdown",
   "id": "621e547a",
   "metadata": {},
   "source": [
    "# Question 3"
   ]
  },
  {
   "cell_type": "markdown",
   "id": "7294ce2c",
   "metadata": {},
   "source": [
    "The output is: 1.7320508075688772.\n",
    "The implementation in C#:"
   ]
  },
  {
   "cell_type": "code",
   "execution_count": null,
   "id": "285caa9e",
   "metadata": {},
   "outputs": [],
   "source": [
    "namespace TriangleArea\n",
    "{\n",
    "    class Program\n",
    "    {\n",
    "        static void Main(string[] args)\n",
    "        {\n",
    "            Console.WriteLine(TriangleArea(2, 2, 2));\n",
    "        }\n",
    "\n",
    "        static double TriangleArea(double a, double b, double c)\n",
    "        {\n",
    "            double s = (a + b + c) / 2;\n",
    "            double area = Math.Sqrt(s * (s - a) * (s - b) * (s - c));\n",
    "            return area;\n",
    "        }\n",
    "    }\n",
    "}"
   ]
  },
  {
   "cell_type": "markdown",
   "id": "3410e337",
   "metadata": {},
   "source": [
    "# Question 4"
   ]
  },
  {
   "cell_type": "markdown",
   "id": "f08324d8",
   "metadata": {},
   "source": [
    "Input the number of elements to be stored in the array :5.\n",
    "Input 5 elements in the array :\n",
    "element - 0 :25,\n",
    "element - 1 :47,\n",
    "element - 2 :42,\n",
    "element - 3 :56,\n",
    "element - 4 :32.\n",
    "The Even elements are :\n",
    "42 56 32.\n",
    "The Odd elements are :\n",
    "25 47.\n",
    "The C#code to separate odd and even integers in separate arrays:"
   ]
  },
  {
   "cell_type": "code",
   "execution_count": null,
   "id": "95f7f27f",
   "metadata": {},
   "outputs": [],
   "source": [
    "using System;\n",
    "\n",
    "namespace SeparateOddAndEvenArrays\n",
    "{\n",
    "    class Program\n",
    "    {\n",
    "        static void Main(string[] args)\n",
    "        {\n",
    "            Console.WriteLine(\"Input the number of elements to be stored in the array :\");\n",
    "            int numberOfElements = int.Parse(Console.ReadLine());\n",
    "\n",
    "            int[] elements = new int[numberOfElements];\n",
    "\n",
    "            Console.WriteLine(\"Input \" + numberOfElements + \" elements in the array :\");\n",
    "            for (int i = 0; i < numberOfElements; i++)\n",
    "            {\n",
    "                Console.WriteLine(\"element - \" + i + \" :\");\n",
    "                elements[i] = int.Parse(Console.ReadLine());\n",
    "            }\n",
    "\n",
    "            Console.WriteLine(\"The Even elements are :\");\n",
    "            foreach (int element in elements)\n",
    "            {\n",
    "                if (element % 2 == 0)\n",
    "                {\n",
    "                    Console.Write(element + \" \");\n",
    "                }\n",
    "            }\n",
    "\n",
    "            Console.WriteLine();\n",
    "            Console.WriteLine(\"The Odd elements are :\");\n",
    "            foreach (int element in elements)\n",
    "            {\n",
    "                if (element % 2 != 0)\n",
    "                {\n",
    "                    Console.Write(element + \" \");\n",
    "                }\n",
    "            }\n",
    "        }\n",
    "    }\n",
    "}"
   ]
  },
  {
   "cell_type": "markdown",
   "id": "f07853f8",
   "metadata": {},
   "source": [
    "# Question 5"
   ]
  },
  {
   "cell_type": "markdown",
   "id": "ce41ee69",
   "metadata": {},
   "source": [
    "a.The output: True\n",
    "              False.\n",
    "  The implementation in C#:"
   ]
  },
  {
   "cell_type": "code",
   "execution_count": null,
   "id": "af9b556f",
   "metadata": {},
   "outputs": [],
   "source": [
    "namespace PointInsideRectangle\n",
    "{\n",
    "    class Program\n",
    "    {\n",
    "        static void Main(string[] args)\n",
    "        {\n",
    "            Console.WriteLine(Inside(1, 1, 0, 0, 2, 3));\n",
    "            Console.WriteLine(Inside(-1, -1, 0, 0, 2, 3));\n",
    "        }\n",
    "\n",
    "        static bool Inside(double x, double y, double x1, double y1, double x2, double y2)\n",
    "        {\n",
    "            if (x >= x1 && x <= x2 && y >= y1 && y <= y2)\n",
    "            {\n",
    "                return true;\n",
    "            }\n",
    "            return false;\n",
    "        }\n",
    "    }\n",
    "}"
   ]
  },
  {
   "cell_type": "markdown",
   "id": "c531a31b",
   "metadata": {},
   "source": [
    "b.The output: False.\n",
    "  The implementation in C#:"
   ]
  },
  {
   "cell_type": "code",
   "execution_count": null,
   "id": "4cc71dbd",
   "metadata": {},
   "outputs": [],
   "source": [
    "namespace PointInsideRectangle\n",
    "{\n",
    "    class Program\n",
    "    {\n",
    "        static void Main(string[] args)\n",
    "        {\n",
    "            Console.WriteLine(Inside(1, 1, 0.3, 0.5, 1.1, 0.7) && Inside(1, 1, 0.5, 0.2, 1.1, 2));\n",
    "        }\n",
    "\n",
    "        static bool Inside(double x, double y, double x1, double y1, double x2, double y2)\n",
    "        {\n",
    "            if (x >= x1 && x <= x2 && y >= y1 && y <= y2)\n",
    "            {\n",
    "                return true;\n",
    "            }\n",
    "            return false;\n",
    "        }\n",
    "    }\n",
    "}"
   ]
  },
  {
   "cell_type": "markdown",
   "id": "83e8cac3",
   "metadata": {},
   "source": [
    "# Question 6"
   ]
  },
  {
   "cell_type": "code",
   "execution_count": 15,
   "id": "e3378609",
   "metadata": {},
   "outputs": [
    {
     "name": "stdout",
     "output_type": "stream",
     "text": [
      "appyhay\n",
      "enterway\n"
     ]
    }
   ],
   "source": [
    "def pig(word):\n",
    "    vowels = 'aeiou'\n",
    "    word = word.lower()\n",
    "    if word[0] in vowels:\n",
    "        return word + 'way'\n",
    "    else:\n",
    "        return word[1:] + word[0] + 'ay'\n",
    "print(pig('happy'))\n",
    "print(pig('Enter'))"
   ]
  },
  {
   "cell_type": "markdown",
   "id": "0174c5ce",
   "metadata": {},
   "source": [
    "# Question 7"
   ]
  },
  {
   "cell_type": "code",
   "execution_count": 47,
   "id": "e7e1fe3d",
   "metadata": {},
   "outputs": [
    {
     "name": "stdout",
     "output_type": "stream",
     "text": [
      "There are 15 patients of blood type A.\n",
      "There are 1 patients of blood type B.\n",
      "There are 13 patients of blood type AB.\n",
      "There are 15 patients of blood type O.\n",
      "There are 0 patients of blood type OO.\n",
      "['AB' 'AB' 'B' 'O' 'A' 'A' 'AB' 'O' 'AB' 'A' 'O' 'O' 'A' 'A' 'A' 'O' 'O'\n",
      " 'O' 'AB' 'O' 'A' 'A' 'A' 'A' 'A' 'AB' 'AB' 'A' 'AB' 'O' 'AB' 'O' 'A' 'O'\n",
      " 'O' 'O' 'AB' 'O' 'AB' 'AB' 'AB' 'A' 'A' 'O']\n"
     ]
    }
   ],
   "source": [
    "def bldcount(name):\n",
    "    with open(name) as f:\n",
    "        data = f.read()\n",
    "        blood_types = data.split()\n",
    "        type_A = blood_types.count('A')\n",
    "        type_B = blood_types.count('B')\n",
    "        type_AB = blood_types.count('AB')\n",
    "        type_O = blood_types.count('O')\n",
    "        type_OO = blood_types.count('OO')\n",
    "        print(f\"There are {type_A} patients of blood type A.\")\n",
    "        print(f\"There are {type_B} patients of blood type B.\")\n",
    "        print(f\"There are {type_AB} patients of blood type AB.\")\n",
    "        print(f\"There are {type_O} patients of blood type O.\")\n",
    "        print(f\"There are {type_OO} patients of blood type OO.\")\n",
    "bldcount('bloodtype1.txt')\n",
    "import numpy as np\n",
    "name = 'bloodtype1.txt'\n",
    "data = np.loadtxt(name, delimiter=' ', dtype=str)\n",
    "print(data)"
   ]
  },
  {
   "cell_type": "markdown",
   "id": "d225f0c0",
   "metadata": {},
   "source": [
    "# Question 8"
   ]
  },
  {
   "cell_type": "code",
   "execution_count": 45,
   "id": "fe79553c",
   "metadata": {},
   "outputs": [
    {
     "name": "stdout",
     "output_type": "stream",
     "text": [
      "Enter the currency:EUR\n",
      "Enter the amount: 100\n",
      "122.96544\n"
     ]
    }
   ],
   "source": [
    "def curconv(curr, amount):\n",
    "\n",
    "    if curr == 'AUD':\n",
    "        print(amount*1.0345157)\n",
    "    if curr == 'CHF':\n",
    "        print(amount*1.0237414)\n",
    "    if curr == 'CNY':\n",
    "        print(amount*0.1550176)\n",
    "    if curr == 'DKK':\n",
    "        print(amount*0.1651442)\n",
    "    if curr == 'EUR':\n",
    "        print(amount*1.2296544)\n",
    "    if curr == 'GBP':\n",
    "        print(amount*1.5550989)\n",
    "    if curr == 'HKD':\n",
    "        print(amount*0.1270207)\n",
    "    if curr == 'INR':\n",
    "        print(amount*0.0177643)\n",
    "    if curr == 'JPY':\n",
    "        print(amount*0.01241401)\n",
    "    if curr == 'MXN':\n",
    "        print(amount*0.0751848)\n",
    "    if curr == 'MYR':\n",
    "        print(amount*0.3145411)\n",
    "    if curr == 'NOK':\n",
    "        print(amount*0.1677063)\n",
    "    if curr == 'NZD':\n",
    "        print(amount*0.8003591)\n",
    "    if curr == 'PHP':\n",
    "        print(amount*0.0233234)\n",
    "    if curr == 'SEK':\n",
    "        print(amount*0.148269)\n",
    "    if curr == 'SGD':\n",
    "        print(amount*0.788871)\n",
    "    if curr == 'THB':\n",
    "        print(amount*0.0313789)\n",
    "\n",
    "curr = str(input(\"Enter the currency:\"))\n",
    "amount = int(input(\"Enter the amount: \"))\n",
    "curconv(curr, amount)"
   ]
  },
  {
   "cell_type": "markdown",
   "id": "7a702b8f",
   "metadata": {},
   "source": [
    "# Question 9"
   ]
  },
  {
   "cell_type": "markdown",
   "id": "9a71e827",
   "metadata": {},
   "source": [
    "a. TypeError: unsupported operand type(s) for +: 'int' and 'str'.\n",
    "b. IndexError: list index out of range.\n",
    "c. ValueError: math domain error.\n",
    "d. NameError: name 'x' is not defined.\n",
    "e. OSError: bloodty.txt not found.\n",
    "f. FileNotFoundError: [Errno 2] No such file or directory: 'rimimondal.txt'."
   ]
  },
  {
   "cell_type": "markdown",
   "id": "9c9bde27",
   "metadata": {},
   "source": [
    "# Question 10"
   ]
  },
  {
   "cell_type": "code",
   "execution_count": 52,
   "id": "cd63f791",
   "metadata": {},
   "outputs": [
    {
     "name": "stdout",
     "output_type": "stream",
     "text": [
      "[1, 1, 1, 3, 5, 1, 1, 2, 1, 0, 1, 0, 1, 2, 4, 0, 1, 2, 0, 2, 1, 0, 1, 1, 0, 0]\n",
      "[1, 0, 0, 0, 1, 0, 0, 0, 0, 0, 0, 1, 0, 0, 0, 2, 0, 0, 0, 0, 0, 0, 0, 0, 0, 0]\n"
     ]
    }
   ],
   "source": [
    "def frequencies(encryption):\n",
    "    letters = \"abcdefghijklmnopqrstuvwqyz\"\n",
    "    rimi = []\n",
    "    for letter in letters:\n",
    "        count = encryption.count(letter)\n",
    "        rimi.append(count)\n",
    "    print(rimi)\n",
    "\n",
    "frequencies(\"The quick red fox got bored and went home.\")\n",
    "frequencies(\"apple\")"
   ]
  }
 ],
 "metadata": {
  "kernelspec": {
   "display_name": "Python 3 (ipykernel)",
   "language": "python",
   "name": "python3"
  },
  "language_info": {
   "codemirror_mode": {
    "name": "ipython",
    "version": 3
   },
   "file_extension": ".py",
   "mimetype": "text/x-python",
   "name": "python",
   "nbconvert_exporter": "python",
   "pygments_lexer": "ipython3",
   "version": "3.9.13"
  }
 },
 "nbformat": 4,
 "nbformat_minor": 5
}
